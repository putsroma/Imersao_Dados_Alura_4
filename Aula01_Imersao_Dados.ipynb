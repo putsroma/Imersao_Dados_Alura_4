{
  "nbformat": 4,
  "nbformat_minor": 0,
  "metadata": {
    "colab": {
      "name": "Aula01_Imersao_Dados.ipynb",
      "provenance": []
    },
    "kernelspec": {
      "name": "python3",
      "display_name": "Python 3"
    },
    "language_info": {
      "name": "python"
    }
  },
  "cells": [
    {
      "cell_type": "markdown",
      "source": [
        "# 4ª Imersão de Dados Alura\n",
        "\n",
        "### Aula 1: Estudo dos imóveis em São Paulo\n",
        "\n",
        "Vamos começar com a importação da biblioteca Pandas, que nos ajudará com as análises deste conjunto de dados disponível [aqui](https://gist.githubusercontent.com/tgcsantos/3bdb29eba6ce391e90df2b72205ba891/raw/22fa920e80c9fa209a9fccc8b52d74cc95d1599b/dados_imoveis.csv). O método `head()` é responsável por retornar as cinco primeiras linhas do nosso conjunto:"
      ],
      "metadata": {
        "id": "6n8Uxj-JzM-D"
      }
    },
    {
      "cell_type": "code",
      "execution_count": 4,
      "metadata": {
        "colab": {
          "base_uri": "https://localhost:8080/",
          "height": 206
        },
        "id": "ylgeXGAorORf",
        "outputId": "3fec89f5-e8d2-4a7b-ca54-dbab8d858d0a"
      },
      "outputs": [
        {
          "output_type": "execute_result",
          "data": {
            "text/plain": [
              "                              Rua              Bairro     Cidade  Metragem  \\\n",
              "0           Avenida Itacira, 255    Planalto Paulista  São Paulo      1000   \n",
              "1  Rua Aurelia Perez Alvarez, 42   Jardim dos Estados  São Paulo       496   \n",
              "2                 Rua Alba Valdez     Jardim Reimberg  São Paulo       125   \n",
              "3                             NaN      Jardim Morumbi  São Paulo       310   \n",
              "4        Rua Tobias Barreto, 195                Mooca  São Paulo       100   \n",
              "\n",
              "   Quartos  Banheiros  Vagas         Valor  \n",
              "0        4          8      6  R$ 7.000.000  \n",
              "1        4          4      4  R$ 3.700.000  \n",
              "2        4          3      2    R$ 380.000  \n",
              "3        3          2      4    R$ 685.000  \n",
              "4        3          2      2    R$ 540.000  "
            ],
            "text/html": [
              "\n",
              "  <div id=\"df-971e1edb-2fe8-4d22-8a37-f69374012479\">\n",
              "    <div class=\"colab-df-container\">\n",
              "      <div>\n",
              "<style scoped>\n",
              "    .dataframe tbody tr th:only-of-type {\n",
              "        vertical-align: middle;\n",
              "    }\n",
              "\n",
              "    .dataframe tbody tr th {\n",
              "        vertical-align: top;\n",
              "    }\n",
              "\n",
              "    .dataframe thead th {\n",
              "        text-align: right;\n",
              "    }\n",
              "</style>\n",
              "<table border=\"1\" class=\"dataframe\">\n",
              "  <thead>\n",
              "    <tr style=\"text-align: right;\">\n",
              "      <th></th>\n",
              "      <th>Rua</th>\n",
              "      <th>Bairro</th>\n",
              "      <th>Cidade</th>\n",
              "      <th>Metragem</th>\n",
              "      <th>Quartos</th>\n",
              "      <th>Banheiros</th>\n",
              "      <th>Vagas</th>\n",
              "      <th>Valor</th>\n",
              "    </tr>\n",
              "  </thead>\n",
              "  <tbody>\n",
              "    <tr>\n",
              "      <th>0</th>\n",
              "      <td>Avenida Itacira, 255</td>\n",
              "      <td>Planalto Paulista</td>\n",
              "      <td>São Paulo</td>\n",
              "      <td>1000</td>\n",
              "      <td>4</td>\n",
              "      <td>8</td>\n",
              "      <td>6</td>\n",
              "      <td>R$ 7.000.000</td>\n",
              "    </tr>\n",
              "    <tr>\n",
              "      <th>1</th>\n",
              "      <td>Rua Aurelia Perez Alvarez, 42</td>\n",
              "      <td>Jardim dos Estados</td>\n",
              "      <td>São Paulo</td>\n",
              "      <td>496</td>\n",
              "      <td>4</td>\n",
              "      <td>4</td>\n",
              "      <td>4</td>\n",
              "      <td>R$ 3.700.000</td>\n",
              "    </tr>\n",
              "    <tr>\n",
              "      <th>2</th>\n",
              "      <td>Rua Alba Valdez</td>\n",
              "      <td>Jardim Reimberg</td>\n",
              "      <td>São Paulo</td>\n",
              "      <td>125</td>\n",
              "      <td>4</td>\n",
              "      <td>3</td>\n",
              "      <td>2</td>\n",
              "      <td>R$ 380.000</td>\n",
              "    </tr>\n",
              "    <tr>\n",
              "      <th>3</th>\n",
              "      <td>NaN</td>\n",
              "      <td>Jardim Morumbi</td>\n",
              "      <td>São Paulo</td>\n",
              "      <td>310</td>\n",
              "      <td>3</td>\n",
              "      <td>2</td>\n",
              "      <td>4</td>\n",
              "      <td>R$ 685.000</td>\n",
              "    </tr>\n",
              "    <tr>\n",
              "      <th>4</th>\n",
              "      <td>Rua Tobias Barreto, 195</td>\n",
              "      <td>Mooca</td>\n",
              "      <td>São Paulo</td>\n",
              "      <td>100</td>\n",
              "      <td>3</td>\n",
              "      <td>2</td>\n",
              "      <td>2</td>\n",
              "      <td>R$ 540.000</td>\n",
              "    </tr>\n",
              "  </tbody>\n",
              "</table>\n",
              "</div>\n",
              "      <button class=\"colab-df-convert\" onclick=\"convertToInteractive('df-971e1edb-2fe8-4d22-8a37-f69374012479')\"\n",
              "              title=\"Convert this dataframe to an interactive table.\"\n",
              "              style=\"display:none;\">\n",
              "        \n",
              "  <svg xmlns=\"http://www.w3.org/2000/svg\" height=\"24px\"viewBox=\"0 0 24 24\"\n",
              "       width=\"24px\">\n",
              "    <path d=\"M0 0h24v24H0V0z\" fill=\"none\"/>\n",
              "    <path d=\"M18.56 5.44l.94 2.06.94-2.06 2.06-.94-2.06-.94-.94-2.06-.94 2.06-2.06.94zm-11 1L8.5 8.5l.94-2.06 2.06-.94-2.06-.94L8.5 2.5l-.94 2.06-2.06.94zm10 10l.94 2.06.94-2.06 2.06-.94-2.06-.94-.94-2.06-.94 2.06-2.06.94z\"/><path d=\"M17.41 7.96l-1.37-1.37c-.4-.4-.92-.59-1.43-.59-.52 0-1.04.2-1.43.59L10.3 9.45l-7.72 7.72c-.78.78-.78 2.05 0 2.83L4 21.41c.39.39.9.59 1.41.59.51 0 1.02-.2 1.41-.59l7.78-7.78 2.81-2.81c.8-.78.8-2.07 0-2.86zM5.41 20L4 18.59l7.72-7.72 1.47 1.35L5.41 20z\"/>\n",
              "  </svg>\n",
              "      </button>\n",
              "      \n",
              "  <style>\n",
              "    .colab-df-container {\n",
              "      display:flex;\n",
              "      flex-wrap:wrap;\n",
              "      gap: 12px;\n",
              "    }\n",
              "\n",
              "    .colab-df-convert {\n",
              "      background-color: #E8F0FE;\n",
              "      border: none;\n",
              "      border-radius: 50%;\n",
              "      cursor: pointer;\n",
              "      display: none;\n",
              "      fill: #1967D2;\n",
              "      height: 32px;\n",
              "      padding: 0 0 0 0;\n",
              "      width: 32px;\n",
              "    }\n",
              "\n",
              "    .colab-df-convert:hover {\n",
              "      background-color: #E2EBFA;\n",
              "      box-shadow: 0px 1px 2px rgba(60, 64, 67, 0.3), 0px 1px 3px 1px rgba(60, 64, 67, 0.15);\n",
              "      fill: #174EA6;\n",
              "    }\n",
              "\n",
              "    [theme=dark] .colab-df-convert {\n",
              "      background-color: #3B4455;\n",
              "      fill: #D2E3FC;\n",
              "    }\n",
              "\n",
              "    [theme=dark] .colab-df-convert:hover {\n",
              "      background-color: #434B5C;\n",
              "      box-shadow: 0px 1px 3px 1px rgba(0, 0, 0, 0.15);\n",
              "      filter: drop-shadow(0px 1px 2px rgba(0, 0, 0, 0.3));\n",
              "      fill: #FFFFFF;\n",
              "    }\n",
              "  </style>\n",
              "\n",
              "      <script>\n",
              "        const buttonEl =\n",
              "          document.querySelector('#df-971e1edb-2fe8-4d22-8a37-f69374012479 button.colab-df-convert');\n",
              "        buttonEl.style.display =\n",
              "          google.colab.kernel.accessAllowed ? 'block' : 'none';\n",
              "\n",
              "        async function convertToInteractive(key) {\n",
              "          const element = document.querySelector('#df-971e1edb-2fe8-4d22-8a37-f69374012479');\n",
              "          const dataTable =\n",
              "            await google.colab.kernel.invokeFunction('convertToInteractive',\n",
              "                                                     [key], {});\n",
              "          if (!dataTable) return;\n",
              "\n",
              "          const docLinkHtml = 'Like what you see? Visit the ' +\n",
              "            '<a target=\"_blank\" href=https://colab.research.google.com/notebooks/data_table.ipynb>data table notebook</a>'\n",
              "            + ' to learn more about interactive tables.';\n",
              "          element.innerHTML = '';\n",
              "          dataTable['output_type'] = 'display_data';\n",
              "          await google.colab.output.renderOutput(dataTable, element);\n",
              "          const docLink = document.createElement('div');\n",
              "          docLink.innerHTML = docLinkHtml;\n",
              "          element.appendChild(docLink);\n",
              "        }\n",
              "      </script>\n",
              "    </div>\n",
              "  </div>\n",
              "  "
            ]
          },
          "metadata": {},
          "execution_count": 4
        }
      ],
      "source": [
        "import pandas as pd\n",
        "url = \"https://gist.githubusercontent.com/tgcsantos/3bdb29eba6ce391e90df2b72205ba891/raw/22fa920e80c9fa209a9fccc8b52d74cc95d1599b/dados_imoveis.csv\"\n",
        "df = pd.read_csv(url)\n",
        "df.head()"
      ]
    },
    {
      "cell_type": "markdown",
      "source": [
        "Outro método interessante é o `sample()` que nos retorna um número aleatório de amostras do nosso conjunto de dados. Por default, ou seja, sem nenhum parâmetro explícito, o método retornará uma amostra. No nosso caso, queremos que ele retorne 10 amostras aleatórias:"
      ],
      "metadata": {
        "id": "WyQLaSiw0EzO"
      }
    },
    {
      "cell_type": "code",
      "source": [
        "df.sample(10)"
      ],
      "metadata": {
        "colab": {
          "base_uri": "https://localhost:8080/",
          "height": 363
        },
        "id": "SxGe9_drramr",
        "outputId": "47bf59b3-b344-4950-d3f6-637546843b1a"
      },
      "execution_count": 10,
      "outputs": [
        {
          "output_type": "execute_result",
          "data": {
            "text/plain": [
              "                                Rua            Bairro     Cidade  Metragem  \\\n",
              "3874  Rua Lourenço de Almeida Prado   Vila Tramontano  São Paulo      1219   \n",
              "6949       Rua Ferreira do Alentejo  Jardim Caravelas  São Paulo       240   \n",
              "5889                  Rua Mota Pais      Vila Ipojuca  São Paulo       188   \n",
              "5761  Rua Manuel Justiniano Quintão    Vila Palmeiras  São Paulo       283   \n",
              "2665                            NaN   Jardim Paulista  São Paulo       180   \n",
              "1168                     Rua Anunze           Boaçava  São Paulo       425   \n",
              "3111                Rua Arizona, 0     Cidade Monções  São Paulo       155   \n",
              "7007               Rua Edson, ****         Campo Belo  São Paulo       204   \n",
              "649          Rua Marcelo Mistrorigo     Jardim Leonor  São Paulo       450   \n",
              "6033            Rua Rodrigo Cláudio         Aclimação  São Paulo       340   \n",
              "\n",
              "      Quartos  Banheiros  Vagas          Valor  \n",
              "3874        5          6     12  R$ 15.000.000  \n",
              "6949        4          4      3   R$ 1.535.000  \n",
              "5889        3          2      2   R$ 1.270.000  \n",
              "5761        4          4      4     R$ 980.000  \n",
              "2665        3          2      1   R$ 3.000.000  \n",
              "1168        3          5      4   R$ 3.800.000  \n",
              "3111        3          1      2   R$ 1.779.990  \n",
              "7007        3          5      3   R$ 1.800.000  \n",
              "649         5          6      4   R$ 6.300.000  \n",
              "6033        5          7      4   R$ 2.500.000  "
            ],
            "text/html": [
              "\n",
              "  <div id=\"df-1539f355-e207-49b5-9bff-77416554c027\">\n",
              "    <div class=\"colab-df-container\">\n",
              "      <div>\n",
              "<style scoped>\n",
              "    .dataframe tbody tr th:only-of-type {\n",
              "        vertical-align: middle;\n",
              "    }\n",
              "\n",
              "    .dataframe tbody tr th {\n",
              "        vertical-align: top;\n",
              "    }\n",
              "\n",
              "    .dataframe thead th {\n",
              "        text-align: right;\n",
              "    }\n",
              "</style>\n",
              "<table border=\"1\" class=\"dataframe\">\n",
              "  <thead>\n",
              "    <tr style=\"text-align: right;\">\n",
              "      <th></th>\n",
              "      <th>Rua</th>\n",
              "      <th>Bairro</th>\n",
              "      <th>Cidade</th>\n",
              "      <th>Metragem</th>\n",
              "      <th>Quartos</th>\n",
              "      <th>Banheiros</th>\n",
              "      <th>Vagas</th>\n",
              "      <th>Valor</th>\n",
              "    </tr>\n",
              "  </thead>\n",
              "  <tbody>\n",
              "    <tr>\n",
              "      <th>3874</th>\n",
              "      <td>Rua Lourenço de Almeida Prado</td>\n",
              "      <td>Vila Tramontano</td>\n",
              "      <td>São Paulo</td>\n",
              "      <td>1219</td>\n",
              "      <td>5</td>\n",
              "      <td>6</td>\n",
              "      <td>12</td>\n",
              "      <td>R$ 15.000.000</td>\n",
              "    </tr>\n",
              "    <tr>\n",
              "      <th>6949</th>\n",
              "      <td>Rua Ferreira do Alentejo</td>\n",
              "      <td>Jardim Caravelas</td>\n",
              "      <td>São Paulo</td>\n",
              "      <td>240</td>\n",
              "      <td>4</td>\n",
              "      <td>4</td>\n",
              "      <td>3</td>\n",
              "      <td>R$ 1.535.000</td>\n",
              "    </tr>\n",
              "    <tr>\n",
              "      <th>5889</th>\n",
              "      <td>Rua Mota Pais</td>\n",
              "      <td>Vila Ipojuca</td>\n",
              "      <td>São Paulo</td>\n",
              "      <td>188</td>\n",
              "      <td>3</td>\n",
              "      <td>2</td>\n",
              "      <td>2</td>\n",
              "      <td>R$ 1.270.000</td>\n",
              "    </tr>\n",
              "    <tr>\n",
              "      <th>5761</th>\n",
              "      <td>Rua Manuel Justiniano Quintão</td>\n",
              "      <td>Vila Palmeiras</td>\n",
              "      <td>São Paulo</td>\n",
              "      <td>283</td>\n",
              "      <td>4</td>\n",
              "      <td>4</td>\n",
              "      <td>4</td>\n",
              "      <td>R$ 980.000</td>\n",
              "    </tr>\n",
              "    <tr>\n",
              "      <th>2665</th>\n",
              "      <td>NaN</td>\n",
              "      <td>Jardim Paulista</td>\n",
              "      <td>São Paulo</td>\n",
              "      <td>180</td>\n",
              "      <td>3</td>\n",
              "      <td>2</td>\n",
              "      <td>1</td>\n",
              "      <td>R$ 3.000.000</td>\n",
              "    </tr>\n",
              "    <tr>\n",
              "      <th>1168</th>\n",
              "      <td>Rua Anunze</td>\n",
              "      <td>Boaçava</td>\n",
              "      <td>São Paulo</td>\n",
              "      <td>425</td>\n",
              "      <td>3</td>\n",
              "      <td>5</td>\n",
              "      <td>4</td>\n",
              "      <td>R$ 3.800.000</td>\n",
              "    </tr>\n",
              "    <tr>\n",
              "      <th>3111</th>\n",
              "      <td>Rua Arizona, 0</td>\n",
              "      <td>Cidade Monções</td>\n",
              "      <td>São Paulo</td>\n",
              "      <td>155</td>\n",
              "      <td>3</td>\n",
              "      <td>1</td>\n",
              "      <td>2</td>\n",
              "      <td>R$ 1.779.990</td>\n",
              "    </tr>\n",
              "    <tr>\n",
              "      <th>7007</th>\n",
              "      <td>Rua Edson, ****</td>\n",
              "      <td>Campo Belo</td>\n",
              "      <td>São Paulo</td>\n",
              "      <td>204</td>\n",
              "      <td>3</td>\n",
              "      <td>5</td>\n",
              "      <td>3</td>\n",
              "      <td>R$ 1.800.000</td>\n",
              "    </tr>\n",
              "    <tr>\n",
              "      <th>649</th>\n",
              "      <td>Rua Marcelo Mistrorigo</td>\n",
              "      <td>Jardim Leonor</td>\n",
              "      <td>São Paulo</td>\n",
              "      <td>450</td>\n",
              "      <td>5</td>\n",
              "      <td>6</td>\n",
              "      <td>4</td>\n",
              "      <td>R$ 6.300.000</td>\n",
              "    </tr>\n",
              "    <tr>\n",
              "      <th>6033</th>\n",
              "      <td>Rua Rodrigo Cláudio</td>\n",
              "      <td>Aclimação</td>\n",
              "      <td>São Paulo</td>\n",
              "      <td>340</td>\n",
              "      <td>5</td>\n",
              "      <td>7</td>\n",
              "      <td>4</td>\n",
              "      <td>R$ 2.500.000</td>\n",
              "    </tr>\n",
              "  </tbody>\n",
              "</table>\n",
              "</div>\n",
              "      <button class=\"colab-df-convert\" onclick=\"convertToInteractive('df-1539f355-e207-49b5-9bff-77416554c027')\"\n",
              "              title=\"Convert this dataframe to an interactive table.\"\n",
              "              style=\"display:none;\">\n",
              "        \n",
              "  <svg xmlns=\"http://www.w3.org/2000/svg\" height=\"24px\"viewBox=\"0 0 24 24\"\n",
              "       width=\"24px\">\n",
              "    <path d=\"M0 0h24v24H0V0z\" fill=\"none\"/>\n",
              "    <path d=\"M18.56 5.44l.94 2.06.94-2.06 2.06-.94-2.06-.94-.94-2.06-.94 2.06-2.06.94zm-11 1L8.5 8.5l.94-2.06 2.06-.94-2.06-.94L8.5 2.5l-.94 2.06-2.06.94zm10 10l.94 2.06.94-2.06 2.06-.94-2.06-.94-.94-2.06-.94 2.06-2.06.94z\"/><path d=\"M17.41 7.96l-1.37-1.37c-.4-.4-.92-.59-1.43-.59-.52 0-1.04.2-1.43.59L10.3 9.45l-7.72 7.72c-.78.78-.78 2.05 0 2.83L4 21.41c.39.39.9.59 1.41.59.51 0 1.02-.2 1.41-.59l7.78-7.78 2.81-2.81c.8-.78.8-2.07 0-2.86zM5.41 20L4 18.59l7.72-7.72 1.47 1.35L5.41 20z\"/>\n",
              "  </svg>\n",
              "      </button>\n",
              "      \n",
              "  <style>\n",
              "    .colab-df-container {\n",
              "      display:flex;\n",
              "      flex-wrap:wrap;\n",
              "      gap: 12px;\n",
              "    }\n",
              "\n",
              "    .colab-df-convert {\n",
              "      background-color: #E8F0FE;\n",
              "      border: none;\n",
              "      border-radius: 50%;\n",
              "      cursor: pointer;\n",
              "      display: none;\n",
              "      fill: #1967D2;\n",
              "      height: 32px;\n",
              "      padding: 0 0 0 0;\n",
              "      width: 32px;\n",
              "    }\n",
              "\n",
              "    .colab-df-convert:hover {\n",
              "      background-color: #E2EBFA;\n",
              "      box-shadow: 0px 1px 2px rgba(60, 64, 67, 0.3), 0px 1px 3px 1px rgba(60, 64, 67, 0.15);\n",
              "      fill: #174EA6;\n",
              "    }\n",
              "\n",
              "    [theme=dark] .colab-df-convert {\n",
              "      background-color: #3B4455;\n",
              "      fill: #D2E3FC;\n",
              "    }\n",
              "\n",
              "    [theme=dark] .colab-df-convert:hover {\n",
              "      background-color: #434B5C;\n",
              "      box-shadow: 0px 1px 3px 1px rgba(0, 0, 0, 0.15);\n",
              "      filter: drop-shadow(0px 1px 2px rgba(0, 0, 0, 0.3));\n",
              "      fill: #FFFFFF;\n",
              "    }\n",
              "  </style>\n",
              "\n",
              "      <script>\n",
              "        const buttonEl =\n",
              "          document.querySelector('#df-1539f355-e207-49b5-9bff-77416554c027 button.colab-df-convert');\n",
              "        buttonEl.style.display =\n",
              "          google.colab.kernel.accessAllowed ? 'block' : 'none';\n",
              "\n",
              "        async function convertToInteractive(key) {\n",
              "          const element = document.querySelector('#df-1539f355-e207-49b5-9bff-77416554c027');\n",
              "          const dataTable =\n",
              "            await google.colab.kernel.invokeFunction('convertToInteractive',\n",
              "                                                     [key], {});\n",
              "          if (!dataTable) return;\n",
              "\n",
              "          const docLinkHtml = 'Like what you see? Visit the ' +\n",
              "            '<a target=\"_blank\" href=https://colab.research.google.com/notebooks/data_table.ipynb>data table notebook</a>'\n",
              "            + ' to learn more about interactive tables.';\n",
              "          element.innerHTML = '';\n",
              "          dataTable['output_type'] = 'display_data';\n",
              "          await google.colab.output.renderOutput(dataTable, element);\n",
              "          const docLink = document.createElement('div');\n",
              "          docLink.innerHTML = docLinkHtml;\n",
              "          element.appendChild(docLink);\n",
              "        }\n",
              "      </script>\n",
              "    </div>\n",
              "  </div>\n",
              "  "
            ]
          },
          "metadata": {},
          "execution_count": 10
        }
      ]
    },
    {
      "cell_type": "markdown",
      "source": [
        "Abaixo algumas outras formas de conseguirmos investigar nosso conjunto de dados, também chamado de dataframe."
      ],
      "metadata": {
        "id": "qz9vKVZH0ocL"
      }
    },
    {
      "cell_type": "code",
      "source": [
        "# Como acessar o Bairro de uma determinada linha do dataframe, no caso a linha 6522?\n",
        "df[\"Bairro\"][6522]"
      ],
      "metadata": {
        "colab": {
          "base_uri": "https://localhost:8080/",
          "height": 35
        },
        "id": "b1RjitkbtFah",
        "outputId": "061de044-9693-4885-d178-0db33e18a5f7"
      },
      "execution_count": 36,
      "outputs": [
        {
          "output_type": "execute_result",
          "data": {
            "text/plain": [
              "'Vila Paulo Silas'"
            ],
            "application/vnd.google.colaboratory.intrinsic+json": {
              "type": "string"
            }
          },
          "metadata": {},
          "execution_count": 36
        }
      ]
    },
    {
      "cell_type": "code",
      "source": [
        "# Como saber o tipo de dado de cada coluna?\n",
        "df.info()"
      ],
      "metadata": {
        "colab": {
          "base_uri": "https://localhost:8080/"
        },
        "id": "W_Oox1Wftm4U",
        "outputId": "c94b43f6-e9b9-4def-fb00-1feab02311eb"
      },
      "execution_count": 13,
      "outputs": [
        {
          "output_type": "stream",
          "name": "stdout",
          "text": [
            "<class 'pandas.core.frame.DataFrame'>\n",
            "RangeIndex: 10008 entries, 0 to 10007\n",
            "Data columns (total 8 columns):\n",
            " #   Column     Non-Null Count  Dtype \n",
            "---  ------     --------------  ----- \n",
            " 0   Rua        6574 non-null   object\n",
            " 1   Bairro     9996 non-null   object\n",
            " 2   Cidade     10008 non-null  object\n",
            " 3   Metragem   10008 non-null  int64 \n",
            " 4   Quartos    10008 non-null  int64 \n",
            " 5   Banheiros  10008 non-null  int64 \n",
            " 6   Vagas      10008 non-null  int64 \n",
            " 7   Valor      10008 non-null  object\n",
            "dtypes: int64(4), object(4)\n",
            "memory usage: 625.6+ KB\n"
          ]
        }
      ]
    },
    {
      "cell_type": "code",
      "source": [
        "# Como calcular a média de todas as metragens\n",
        "df[\"Metragem\"].mean()"
      ],
      "metadata": {
        "colab": {
          "base_uri": "https://localhost:8080/"
        },
        "id": "NXZ8orSut1KR",
        "outputId": "c74dfe2b-2405-4388-da29-0403388533e5"
      },
      "execution_count": 18,
      "outputs": [
        {
          "output_type": "execute_result",
          "data": {
            "text/plain": [
              "442.30065947242207"
            ]
          },
          "metadata": {},
          "execution_count": 18
        }
      ]
    },
    {
      "cell_type": "code",
      "source": [
        "# Como selecionar apenas as linhas cujo bairro é Vila Mariana?\n",
        "tem_imoveis_vila_mariana = (df[\"Bairro\"] == \"Vila Mariana\")\n",
        "imoveis_vila_mariana = df[tem_imoveis_vila_mariana]\n",
        "imoveis_vila_mariana"
      ],
      "metadata": {
        "colab": {
          "base_uri": "https://localhost:8080/",
          "height": 424
        },
        "id": "dJKsyz6luLt-",
        "outputId": "ebcb712e-34de-4d3f-b3ef-bbb56f386634"
      },
      "execution_count": 38,
      "outputs": [
        {
          "output_type": "execute_result",
          "data": {
            "text/plain": [
              "                               Rua        Bairro     Cidade  Metragem  \\\n",
              "100               Rua Pero Correia  Vila Mariana  São Paulo       250   \n",
              "120   Praça Doutor Carvalho Franco  Vila Mariana  São Paulo       250   \n",
              "155     Rua Professor João Marinho  Vila Mariana  São Paulo       170   \n",
              "160                            NaN  Vila Mariana  São Paulo       228   \n",
              "334         Rua Pero Correia, 892   Vila Mariana  São Paulo       350   \n",
              "...                            ...           ...        ...       ...   \n",
              "9645               Rua Sousa Ramos  Vila Mariana  São Paulo       285   \n",
              "9701             Rua Benito Juarez  Vila Mariana  São Paulo       171   \n",
              "9737             Rua Benito Juarez  Vila Mariana  São Paulo       171   \n",
              "9807                           NaN  Vila Mariana  São Paulo       275   \n",
              "9852              Rua França Pinto  Vila Mariana  São Paulo       280   \n",
              "\n",
              "      Quartos  Banheiros  Vagas         Valor  \n",
              "100         3          3      1  R$ 1.350.000  \n",
              "120         3          5      2  R$ 2.450.000  \n",
              "155         3          4      2  R$ 1.490.000  \n",
              "160         4          5      3  R$ 2.200.000  \n",
              "334         6          4     10  R$ 1.700.000  \n",
              "...       ...        ...    ...           ...  \n",
              "9645        3          5      5  R$ 1.650.000  \n",
              "9701        3          2      4  R$ 1.650.000  \n",
              "9737        3          2      4  R$ 1.650.000  \n",
              "9807        3          1      6  R$ 1.500.000  \n",
              "9852        3          3      4  R$ 1.600.000  \n",
              "\n",
              "[184 rows x 8 columns]"
            ],
            "text/html": [
              "\n",
              "  <div id=\"df-1da207e1-4029-4595-9996-9bf16af3edc7\">\n",
              "    <div class=\"colab-df-container\">\n",
              "      <div>\n",
              "<style scoped>\n",
              "    .dataframe tbody tr th:only-of-type {\n",
              "        vertical-align: middle;\n",
              "    }\n",
              "\n",
              "    .dataframe tbody tr th {\n",
              "        vertical-align: top;\n",
              "    }\n",
              "\n",
              "    .dataframe thead th {\n",
              "        text-align: right;\n",
              "    }\n",
              "</style>\n",
              "<table border=\"1\" class=\"dataframe\">\n",
              "  <thead>\n",
              "    <tr style=\"text-align: right;\">\n",
              "      <th></th>\n",
              "      <th>Rua</th>\n",
              "      <th>Bairro</th>\n",
              "      <th>Cidade</th>\n",
              "      <th>Metragem</th>\n",
              "      <th>Quartos</th>\n",
              "      <th>Banheiros</th>\n",
              "      <th>Vagas</th>\n",
              "      <th>Valor</th>\n",
              "    </tr>\n",
              "  </thead>\n",
              "  <tbody>\n",
              "    <tr>\n",
              "      <th>100</th>\n",
              "      <td>Rua Pero Correia</td>\n",
              "      <td>Vila Mariana</td>\n",
              "      <td>São Paulo</td>\n",
              "      <td>250</td>\n",
              "      <td>3</td>\n",
              "      <td>3</td>\n",
              "      <td>1</td>\n",
              "      <td>R$ 1.350.000</td>\n",
              "    </tr>\n",
              "    <tr>\n",
              "      <th>120</th>\n",
              "      <td>Praça Doutor Carvalho Franco</td>\n",
              "      <td>Vila Mariana</td>\n",
              "      <td>São Paulo</td>\n",
              "      <td>250</td>\n",
              "      <td>3</td>\n",
              "      <td>5</td>\n",
              "      <td>2</td>\n",
              "      <td>R$ 2.450.000</td>\n",
              "    </tr>\n",
              "    <tr>\n",
              "      <th>155</th>\n",
              "      <td>Rua Professor João Marinho</td>\n",
              "      <td>Vila Mariana</td>\n",
              "      <td>São Paulo</td>\n",
              "      <td>170</td>\n",
              "      <td>3</td>\n",
              "      <td>4</td>\n",
              "      <td>2</td>\n",
              "      <td>R$ 1.490.000</td>\n",
              "    </tr>\n",
              "    <tr>\n",
              "      <th>160</th>\n",
              "      <td>NaN</td>\n",
              "      <td>Vila Mariana</td>\n",
              "      <td>São Paulo</td>\n",
              "      <td>228</td>\n",
              "      <td>4</td>\n",
              "      <td>5</td>\n",
              "      <td>3</td>\n",
              "      <td>R$ 2.200.000</td>\n",
              "    </tr>\n",
              "    <tr>\n",
              "      <th>334</th>\n",
              "      <td>Rua Pero Correia, 892</td>\n",
              "      <td>Vila Mariana</td>\n",
              "      <td>São Paulo</td>\n",
              "      <td>350</td>\n",
              "      <td>6</td>\n",
              "      <td>4</td>\n",
              "      <td>10</td>\n",
              "      <td>R$ 1.700.000</td>\n",
              "    </tr>\n",
              "    <tr>\n",
              "      <th>...</th>\n",
              "      <td>...</td>\n",
              "      <td>...</td>\n",
              "      <td>...</td>\n",
              "      <td>...</td>\n",
              "      <td>...</td>\n",
              "      <td>...</td>\n",
              "      <td>...</td>\n",
              "      <td>...</td>\n",
              "    </tr>\n",
              "    <tr>\n",
              "      <th>9645</th>\n",
              "      <td>Rua Sousa Ramos</td>\n",
              "      <td>Vila Mariana</td>\n",
              "      <td>São Paulo</td>\n",
              "      <td>285</td>\n",
              "      <td>3</td>\n",
              "      <td>5</td>\n",
              "      <td>5</td>\n",
              "      <td>R$ 1.650.000</td>\n",
              "    </tr>\n",
              "    <tr>\n",
              "      <th>9701</th>\n",
              "      <td>Rua Benito Juarez</td>\n",
              "      <td>Vila Mariana</td>\n",
              "      <td>São Paulo</td>\n",
              "      <td>171</td>\n",
              "      <td>3</td>\n",
              "      <td>2</td>\n",
              "      <td>4</td>\n",
              "      <td>R$ 1.650.000</td>\n",
              "    </tr>\n",
              "    <tr>\n",
              "      <th>9737</th>\n",
              "      <td>Rua Benito Juarez</td>\n",
              "      <td>Vila Mariana</td>\n",
              "      <td>São Paulo</td>\n",
              "      <td>171</td>\n",
              "      <td>3</td>\n",
              "      <td>2</td>\n",
              "      <td>4</td>\n",
              "      <td>R$ 1.650.000</td>\n",
              "    </tr>\n",
              "    <tr>\n",
              "      <th>9807</th>\n",
              "      <td>NaN</td>\n",
              "      <td>Vila Mariana</td>\n",
              "      <td>São Paulo</td>\n",
              "      <td>275</td>\n",
              "      <td>3</td>\n",
              "      <td>1</td>\n",
              "      <td>6</td>\n",
              "      <td>R$ 1.500.000</td>\n",
              "    </tr>\n",
              "    <tr>\n",
              "      <th>9852</th>\n",
              "      <td>Rua França Pinto</td>\n",
              "      <td>Vila Mariana</td>\n",
              "      <td>São Paulo</td>\n",
              "      <td>280</td>\n",
              "      <td>3</td>\n",
              "      <td>3</td>\n",
              "      <td>4</td>\n",
              "      <td>R$ 1.600.000</td>\n",
              "    </tr>\n",
              "  </tbody>\n",
              "</table>\n",
              "<p>184 rows × 8 columns</p>\n",
              "</div>\n",
              "      <button class=\"colab-df-convert\" onclick=\"convertToInteractive('df-1da207e1-4029-4595-9996-9bf16af3edc7')\"\n",
              "              title=\"Convert this dataframe to an interactive table.\"\n",
              "              style=\"display:none;\">\n",
              "        \n",
              "  <svg xmlns=\"http://www.w3.org/2000/svg\" height=\"24px\"viewBox=\"0 0 24 24\"\n",
              "       width=\"24px\">\n",
              "    <path d=\"M0 0h24v24H0V0z\" fill=\"none\"/>\n",
              "    <path d=\"M18.56 5.44l.94 2.06.94-2.06 2.06-.94-2.06-.94-.94-2.06-.94 2.06-2.06.94zm-11 1L8.5 8.5l.94-2.06 2.06-.94-2.06-.94L8.5 2.5l-.94 2.06-2.06.94zm10 10l.94 2.06.94-2.06 2.06-.94-2.06-.94-.94-2.06-.94 2.06-2.06.94z\"/><path d=\"M17.41 7.96l-1.37-1.37c-.4-.4-.92-.59-1.43-.59-.52 0-1.04.2-1.43.59L10.3 9.45l-7.72 7.72c-.78.78-.78 2.05 0 2.83L4 21.41c.39.39.9.59 1.41.59.51 0 1.02-.2 1.41-.59l7.78-7.78 2.81-2.81c.8-.78.8-2.07 0-2.86zM5.41 20L4 18.59l7.72-7.72 1.47 1.35L5.41 20z\"/>\n",
              "  </svg>\n",
              "      </button>\n",
              "      \n",
              "  <style>\n",
              "    .colab-df-container {\n",
              "      display:flex;\n",
              "      flex-wrap:wrap;\n",
              "      gap: 12px;\n",
              "    }\n",
              "\n",
              "    .colab-df-convert {\n",
              "      background-color: #E8F0FE;\n",
              "      border: none;\n",
              "      border-radius: 50%;\n",
              "      cursor: pointer;\n",
              "      display: none;\n",
              "      fill: #1967D2;\n",
              "      height: 32px;\n",
              "      padding: 0 0 0 0;\n",
              "      width: 32px;\n",
              "    }\n",
              "\n",
              "    .colab-df-convert:hover {\n",
              "      background-color: #E2EBFA;\n",
              "      box-shadow: 0px 1px 2px rgba(60, 64, 67, 0.3), 0px 1px 3px 1px rgba(60, 64, 67, 0.15);\n",
              "      fill: #174EA6;\n",
              "    }\n",
              "\n",
              "    [theme=dark] .colab-df-convert {\n",
              "      background-color: #3B4455;\n",
              "      fill: #D2E3FC;\n",
              "    }\n",
              "\n",
              "    [theme=dark] .colab-df-convert:hover {\n",
              "      background-color: #434B5C;\n",
              "      box-shadow: 0px 1px 3px 1px rgba(0, 0, 0, 0.15);\n",
              "      filter: drop-shadow(0px 1px 2px rgba(0, 0, 0, 0.3));\n",
              "      fill: #FFFFFF;\n",
              "    }\n",
              "  </style>\n",
              "\n",
              "      <script>\n",
              "        const buttonEl =\n",
              "          document.querySelector('#df-1da207e1-4029-4595-9996-9bf16af3edc7 button.colab-df-convert');\n",
              "        buttonEl.style.display =\n",
              "          google.colab.kernel.accessAllowed ? 'block' : 'none';\n",
              "\n",
              "        async function convertToInteractive(key) {\n",
              "          const element = document.querySelector('#df-1da207e1-4029-4595-9996-9bf16af3edc7');\n",
              "          const dataTable =\n",
              "            await google.colab.kernel.invokeFunction('convertToInteractive',\n",
              "                                                     [key], {});\n",
              "          if (!dataTable) return;\n",
              "\n",
              "          const docLinkHtml = 'Like what you see? Visit the ' +\n",
              "            '<a target=\"_blank\" href=https://colab.research.google.com/notebooks/data_table.ipynb>data table notebook</a>'\n",
              "            + ' to learn more about interactive tables.';\n",
              "          element.innerHTML = '';\n",
              "          dataTable['output_type'] = 'display_data';\n",
              "          await google.colab.output.renderOutput(dataTable, element);\n",
              "          const docLink = document.createElement('div');\n",
              "          docLink.innerHTML = docLinkHtml;\n",
              "          element.appendChild(docLink);\n",
              "        }\n",
              "      </script>\n",
              "    </div>\n",
              "  </div>\n",
              "  "
            ]
          },
          "metadata": {},
          "execution_count": 38
        }
      ]
    },
    {
      "cell_type": "code",
      "source": [
        "# Uma vez selecionadas as linhas, como calcular a média da metragem deste bairro?\n",
        "imoveis_vila_mariana[\"Metragem\"].mean()"
      ],
      "metadata": {
        "colab": {
          "base_uri": "https://localhost:8080/"
        },
        "id": "8Uj7X7ByvGLA",
        "outputId": "6806ba96-fabb-44e4-afc3-108d67e34d6d"
      },
      "execution_count": 25,
      "outputs": [
        {
          "output_type": "execute_result",
          "data": {
            "text/plain": [
              "233.6195652173913"
            ]
          },
          "metadata": {},
          "execution_count": 25
        }
      ]
    },
    {
      "cell_type": "code",
      "source": [
        "# Como saber quantos imóveis de cada bairro temos disponíveis neste dataframe?\n",
        "df[\"Bairro\"].value_counts()"
      ],
      "metadata": {
        "colab": {
          "base_uri": "https://localhost:8080/"
        },
        "id": "2dA3flLyvtvA",
        "outputId": "47c9da06-8e9f-477b-908c-04075c5d9921"
      },
      "execution_count": 28,
      "outputs": [
        {
          "output_type": "execute_result",
          "data": {
            "text/plain": [
              "Alto de Pinheiros     409\n",
              "Jardim Guedala        403\n",
              "Jardim Paulista       309\n",
              "Brooklin Paulista     247\n",
              "Jardim Europa         240\n",
              "                     ... \n",
              "Jardim das Imbuias      1\n",
              "Vila Represa            1\n",
              "Vila Nancy              1\n",
              "Sítio Represa           1\n",
              "Vila Invernada          1\n",
              "Name: Bairro, Length: 701, dtype: int64"
            ]
          },
          "metadata": {},
          "execution_count": 28
        }
      ]
    },
    {
      "cell_type": "code",
      "source": [
        "# Como mostrar graficamente os 10 bairros com mais imóveis?\n",
        "n_imoveis_bairro = df[\"Bairro\"].value_counts()\n",
        "n_imoveis_bairro.head(10).plot.bar()"
      ],
      "metadata": {
        "colab": {
          "base_uri": "https://localhost:8080/",
          "height": 356
        },
        "id": "chjZVAnrv97r",
        "outputId": "de941af4-d7aa-4cb4-f551-9534eb8833c0"
      },
      "execution_count": 31,
      "outputs": [
        {
          "output_type": "execute_result",
          "data": {
            "text/plain": [
              "<matplotlib.axes._subplots.AxesSubplot at 0x7f7e8675d350>"
            ]
          },
          "metadata": {},
          "execution_count": 31
        },
        {
          "output_type": "display_data",
          "data": {
            "text/plain": [
              "<Figure size 432x288 with 1 Axes>"
            ],
            "image/png": "[encoded data removed]"
          },
          "metadata": {
            "needs_background": "light"
          }
        }
      ]
    },
    {
      "cell_type": "markdown",
      "source": [
        "### Desafios\n",
        "\n",
        "#### 1 - Realizar a média da metragem para cada um dos bairros;\n"
      ],
      "metadata": {
        "id": "MAEKI6u-wrcD"
      }
    },
    {
      "cell_type": "code",
      "source": [
        "# O método groupby criará um dataframe que agrupa todos os valores iguais da coluna \n",
        "# sinalizada, no caso Bairros, e a partir disso conseguimos aplicar as análises desejadas:\n",
        "df.groupby(\"Bairro\")[[\"Metragem\"]].mean()"
      ],
      "metadata": {
        "colab": {
          "base_uri": "https://localhost:8080/",
          "height": 455
        },
        "id": "Bj49GZwXwokQ",
        "outputId": "6aac90b5-b63f-46f6-9791-19b9b3196429"
      },
      "execution_count": 35,
      "outputs": [
        {
          "output_type": "execute_result",
          "data": {
            "text/plain": [
              "                     Metragem\n",
              "Bairro                       \n",
              "Aclimação          253.056818\n",
              "Alto da Boa Vista  418.875000\n",
              "Alto da Lapa       294.337209\n",
              "Alto da Mooca      270.050000\n",
              "Alto de Pinheiros  433.444988\n",
              "...                       ...\n",
              "Vila Água Funda    152.200000\n",
              "Água Branca        191.000000\n",
              "Água Fria          165.416667\n",
              "Água Funda         139.000000\n",
              "Água Rasa          340.250000\n",
              "\n",
              "[701 rows x 1 columns]"
            ],
            "text/html": [
              "\n",
              "  <div id=\"df-8661ad91-4d63-4211-bb94-c2b1cedf2d21\">\n",
              "    <div class=\"colab-df-container\">\n",
              "      <div>\n",
              "<style scoped>\n",
              "    .dataframe tbody tr th:only-of-type {\n",
              "        vertical-align: middle;\n",
              "    }\n",
              "\n",
              "    .dataframe tbody tr th {\n",
              "        vertical-align: top;\n",
              "    }\n",
              "\n",
              "    .dataframe thead th {\n",
              "        text-align: right;\n",
              "    }\n",
              "</style>\n",
              "<table border=\"1\" class=\"dataframe\">\n",
              "  <thead>\n",
              "    <tr style=\"text-align: right;\">\n",
              "      <th></th>\n",
              "      <th>Metragem</th>\n",
              "    </tr>\n",
              "    <tr>\n",
              "      <th>Bairro</th>\n",
              "      <th></th>\n",
              "    </tr>\n",
              "  </thead>\n",
              "  <tbody>\n",
              "    <tr>\n",
              "      <th>Aclimação</th>\n",
              "      <td>253.056818</td>\n",
              "    </tr>\n",
              "    <tr>\n",
              "      <th>Alto da Boa Vista</th>\n",
              "      <td>418.875000</td>\n",
              "    </tr>\n",
              "    <tr>\n",
              "      <th>Alto da Lapa</th>\n",
              "      <td>294.337209</td>\n",
              "    </tr>\n",
              "    <tr>\n",
              "      <th>Alto da Mooca</th>\n",
              "      <td>270.050000</td>\n",
              "    </tr>\n",
              "    <tr>\n",
              "      <th>Alto de Pinheiros</th>\n",
              "      <td>433.444988</td>\n",
              "    </tr>\n",
              "    <tr>\n",
              "      <th>...</th>\n",
              "      <td>...</td>\n",
              "    </tr>\n",
              "    <tr>\n",
              "      <th>Vila Água Funda</th>\n",
              "      <td>152.200000</td>\n",
              "    </tr>\n",
              "    <tr>\n",
              "      <th>Água Branca</th>\n",
              "      <td>191.000000</td>\n",
              "    </tr>\n",
              "    <tr>\n",
              "      <th>Água Fria</th>\n",
              "      <td>165.416667</td>\n",
              "    </tr>\n",
              "    <tr>\n",
              "      <th>Água Funda</th>\n",
              "      <td>139.000000</td>\n",
              "    </tr>\n",
              "    <tr>\n",
              "      <th>Água Rasa</th>\n",
              "      <td>340.250000</td>\n",
              "    </tr>\n",
              "  </tbody>\n",
              "</table>\n",
              "<p>701 rows × 1 columns</p>\n",
              "</div>\n",
              "      <button class=\"colab-df-convert\" onclick=\"convertToInteractive('df-8661ad91-4d63-4211-bb94-c2b1cedf2d21')\"\n",
              "              title=\"Convert this dataframe to an interactive table.\"\n",
              "              style=\"display:none;\">\n",
              "        \n",
              "  <svg xmlns=\"http://www.w3.org/2000/svg\" height=\"24px\"viewBox=\"0 0 24 24\"\n",
              "       width=\"24px\">\n",
              "    <path d=\"M0 0h24v24H0V0z\" fill=\"none\"/>\n",
              "    <path d=\"M18.56 5.44l.94 2.06.94-2.06 2.06-.94-2.06-.94-.94-2.06-.94 2.06-2.06.94zm-11 1L8.5 8.5l.94-2.06 2.06-.94-2.06-.94L8.5 2.5l-.94 2.06-2.06.94zm10 10l.94 2.06.94-2.06 2.06-.94-2.06-.94-.94-2.06-.94 2.06-2.06.94z\"/><path d=\"M17.41 7.96l-1.37-1.37c-.4-.4-.92-.59-1.43-.59-.52 0-1.04.2-1.43.59L10.3 9.45l-7.72 7.72c-.78.78-.78 2.05 0 2.83L4 21.41c.39.39.9.59 1.41.59.51 0 1.02-.2 1.41-.59l7.78-7.78 2.81-2.81c.8-.78.8-2.07 0-2.86zM5.41 20L4 18.59l7.72-7.72 1.47 1.35L5.41 20z\"/>\n",
              "  </svg>\n",
              "      </button>\n",
              "      \n",
              "  <style>\n",
              "    .colab-df-container {\n",
              "      display:flex;\n",
              "      flex-wrap:wrap;\n",
              "      gap: 12px;\n",
              "    }\n",
              "\n",
              "    .colab-df-convert {\n",
              "      background-color: #E8F0FE;\n",
              "      border: none;\n",
              "      border-radius: 50%;\n",
              "      cursor: pointer;\n",
              "      display: none;\n",
              "      fill: #1967D2;\n",
              "      height: 32px;\n",
              "      padding: 0 0 0 0;\n",
              "      width: 32px;\n",
              "    }\n",
              "\n",
              "    .colab-df-convert:hover {\n",
              "      background-color: #E2EBFA;\n",
              "      box-shadow: 0px 1px 2px rgba(60, 64, 67, 0.3), 0px 1px 3px 1px rgba(60, 64, 67, 0.15);\n",
              "      fill: #174EA6;\n",
              "    }\n",
              "\n",
              "    [theme=dark] .colab-df-convert {\n",
              "      background-color: #3B4455;\n",
              "      fill: #D2E3FC;\n",
              "    }\n",
              "\n",
              "    [theme=dark] .colab-df-convert:hover {\n",
              "      background-color: #434B5C;\n",
              "      box-shadow: 0px 1px 3px 1px rgba(0, 0, 0, 0.15);\n",
              "      filter: drop-shadow(0px 1px 2px rgba(0, 0, 0, 0.3));\n",
              "      fill: #FFFFFF;\n",
              "    }\n",
              "  </style>\n",
              "\n",
              "      <script>\n",
              "        const buttonEl =\n",
              "          document.querySelector('#df-8661ad91-4d63-4211-bb94-c2b1cedf2d21 button.colab-df-convert');\n",
              "        buttonEl.style.display =\n",
              "          google.colab.kernel.accessAllowed ? 'block' : 'none';\n",
              "\n",
              "        async function convertToInteractive(key) {\n",
              "          const element = document.querySelector('#df-8661ad91-4d63-4211-bb94-c2b1cedf2d21');\n",
              "          const dataTable =\n",
              "            await google.colab.kernel.invokeFunction('convertToInteractive',\n",
              "                                                     [key], {});\n",
              "          if (!dataTable) return;\n",
              "\n",
              "          const docLinkHtml = 'Like what you see? Visit the ' +\n",
              "            '<a target=\"_blank\" href=https://colab.research.google.com/notebooks/data_table.ipynb>data table notebook</a>'\n",
              "            + ' to learn more about interactive tables.';\n",
              "          element.innerHTML = '';\n",
              "          dataTable['output_type'] = 'display_data';\n",
              "          await google.colab.output.renderOutput(dataTable, element);\n",
              "          const docLink = document.createElement('div');\n",
              "          docLink.innerHTML = docLinkHtml;\n",
              "          element.appendChild(docLink);\n",
              "        }\n",
              "      </script>\n",
              "    </div>\n",
              "  </div>\n",
              "  "
            ]
          },
          "metadata": {},
          "execution_count": 35
        }
      ]
    },
    {
      "cell_type": "markdown",
      "source": [
        "\n",
        "#### 2 - Encontrar outras duas formas de selecionar os dados por bairro;\n",
        "\n",
        "A primeira forma é realizando a query diretamente no conjunto. O Pandas\n",
        "aceita que querys sejam passadas logo no momento onde queremos construir o\n",
        "novo dataframe que será resultado da consulta. Sendo assim, o processo que\n",
        "fizemos para encontrar a média da metragem da Vila Mariana, pode ser feito em\n",
        "apenas uma linha.\n"
      ],
      "metadata": {
        "id": "hvMlbJi01YaA"
      }
    },
    {
      "cell_type": "code",
      "source": [
        "# Vamos realizar a consulta da média da metragem para o bairro Pacaembu:\n",
        "metragem_pacaembu = df.query('Bairro == \"Pacaembu\"')[\"Metragem\"].mean()\n",
        "metragem_pacaembu"
      ],
      "metadata": {
        "colab": {
          "base_uri": "https://localhost:8080/"
        },
        "id": "dzxDBsmUzElI",
        "outputId": "651d6414-162f-4d8d-bad3-d0254390550e"
      },
      "execution_count": 109,
      "outputs": [
        {
          "output_type": "execute_result",
          "data": {
            "text/plain": [
              "512.8063063063063"
            ]
          },
          "metadata": {},
          "execution_count": 109
        }
      ]
    },
    {
      "cell_type": "markdown",
      "source": [
        "Note que em `Bairro == \"Pacaembu\"` estamos aplicando a filtragem que retornará apenas as linhas das quais o bairro é Pacaembu. Como o resultado disso é um dataframe, selecionaremos deste a coluna Metragem, e dela calcularemos a média com o método `mean()`.\n",
        "\n",
        "Uma outra forma de selecionarmos dados é utilizando o método `loc`:"
      ],
      "metadata": {
        "id": "h1KTXaYn3YSV"
      }
    },
    {
      "cell_type": "code",
      "source": [
        "# Vamos realizar a mesma consulta para o bairro Pacaembu utilizando loc:\n",
        "metragem_pacaembu = df.loc[df[\"Bairro\"] == \"Pacaembu\"][\"Metragem\"].mean()\n",
        "metragem_pacaembu"
      ],
      "metadata": {
        "colab": {
          "base_uri": "https://localhost:8080/"
        },
        "id": "wGPk3-eD4EYk",
        "outputId": "1bf88b53-bcdb-4217-c9ff-c19740ca01ff"
      },
      "execution_count": 44,
      "outputs": [
        {
          "output_type": "execute_result",
          "data": {
            "text/plain": [
              "512.8063063063063"
            ]
          },
          "metadata": {},
          "execution_count": 44
        }
      ]
    },
    {
      "cell_type": "markdown",
      "source": [
        "#### 3 - Explorar alguns gráficos da documentação e aplicar nas demais colunas do dataframe. Tentar colocar conclusões e explorar alguns dados estatísticos;\n",
        "\n",
        "Percebemos que a metragem dos bairros tem uma grande variação de bairro pra bairro. Nos exemplos que vimos, enquanto a média da cidade toda é de aproximadamente 442m², a média da Vila Mariana fica em 233m² e a do Pacaembu em 512m². Isso pode nos indicar que alguns bairros podem possuir imóveis com metragens muito altas ou muito baixas, o que pode influenciar significativamente o cálculo das médias.\n",
        "\n",
        "Para analisar isso vamos utilizar o boxplot, um gráfico estatístico que consegue nos mostrar a distribuição dos dados de uma determinada variável. No nosso caso, vamos estudar a distribuição da metragem para os 10 bairros com o maior número de imóveis. Não faremos de todos os bairros pois isso visualmente ficaria poluído."
      ],
      "metadata": {
        "id": "YIktFJy41tWN"
      }
    },
    {
      "cell_type": "code",
      "source": [
        "# Vamos criar novamente um dataframe agrupado pela metragem dos bairros.\n",
        "grouped = df.groupby(\"Bairro\")[[\"Metragem\"]]\n",
        "grouped.describe()"
      ],
      "metadata": {
        "colab": {
          "base_uri": "https://localhost:8080/",
          "height": 486
        },
        "id": "ioapeOzV7LzI",
        "outputId": "e6f19244-3c1c-4945-9e70-6a9d88336e46"
      },
      "execution_count": 51,
      "outputs": [
        {
          "output_type": "execute_result",
          "data": {
            "text/plain": [
              "                  Metragem                                                \\\n",
              "                     count        mean         std    min     25%    50%   \n",
              "Bairro                                                                     \n",
              "Aclimação             88.0  253.056818  159.140245  104.0  165.00  227.5   \n",
              "Alto da Boa Vista      8.0  418.875000  111.880596  315.0  347.50  378.0   \n",
              "Alto da Lapa          86.0  294.337209  187.674036   46.0  151.25  255.0   \n",
              "Alto da Mooca         20.0  270.050000  237.306924   84.0  133.75  182.5   \n",
              "Alto de Pinheiros    409.0  433.444988  145.676574  100.0  344.00  412.0   \n",
              "...                    ...         ...         ...    ...     ...    ...   \n",
              "Vila Água Funda        5.0  152.200000   44.353128   90.0  138.00  143.0   \n",
              "Água Branca           13.0  191.000000   91.045776   91.0  143.00  174.0   \n",
              "Água Fria             12.0  165.416667   82.934211   60.0   76.25  174.5   \n",
              "Água Funda             2.0  139.000000   19.798990  125.0  132.00  139.0   \n",
              "Água Rasa              8.0  340.250000  294.046036   86.0  172.50  180.0   \n",
              "\n",
              "                                   \n",
              "                      75%     max  \n",
              "Bairro                             \n",
              "Aclimação          300.00  1500.0  \n",
              "Alto da Boa Vista  448.75   595.0  \n",
              "Alto da Lapa       363.75  1133.0  \n",
              "Alto da Mooca      221.25   805.0  \n",
              "Alto de Pinheiros  505.00  1530.0  \n",
              "...                   ...     ...  \n",
              "Vila Água Funda    190.00   200.0  \n",
              "Água Branca        200.00   400.0  \n",
              "Água Fria          210.50   314.0  \n",
              "Água Funda         146.00   153.0  \n",
              "Água Rasa          455.75   805.0  \n",
              "\n",
              "[701 rows x 8 columns]"
            ],
            "text/html": [
              "\n",
              "  <div id=\"df-e077e9ee-8fd1-4447-a90e-f87c8a724069\">\n",
              "    <div class=\"colab-df-container\">\n",
              "      <div>\n",
              "<style scoped>\n",
              "    .dataframe tbody tr th:only-of-type {\n",
              "        vertical-align: middle;\n",
              "    }\n",
              "\n",
              "    .dataframe tbody tr th {\n",
              "        vertical-align: top;\n",
              "    }\n",
              "\n",
              "    .dataframe thead tr th {\n",
              "        text-align: left;\n",
              "    }\n",
              "\n",
              "    .dataframe thead tr:last-of-type th {\n",
              "        text-align: right;\n",
              "    }\n",
              "</style>\n",
              "<table border=\"1\" class=\"dataframe\">\n",
              "  <thead>\n",
              "    <tr>\n",
              "      <th></th>\n",
              "      <th colspan=\"8\" halign=\"left\">Metragem</th>\n",
              "    </tr>\n",
              "    <tr>\n",
              "      <th></th>\n",
              "      <th>count</th>\n",
              "      <th>mean</th>\n",
              "      <th>std</th>\n",
              "      <th>min</th>\n",
              "      <th>25%</th>\n",
              "      <th>50%</th>\n",
              "      <th>75%</th>\n",
              "      <th>max</th>\n",
              "    </tr>\n",
              "    <tr>\n",
              "      <th>Bairro</th>\n",
              "      <th></th>\n",
              "      <th></th>\n",
              "      <th></th>\n",
              "      <th></th>\n",
              "      <th></th>\n",
              "      <th></th>\n",
              "      <th></th>\n",
              "      <th></th>\n",
              "    </tr>\n",
              "  </thead>\n",
              "  <tbody>\n",
              "    <tr>\n",
              "      <th>Aclimação</th>\n",
              "      <td>88.0</td>\n",
              "      <td>253.056818</td>\n",
              "      <td>159.140245</td>\n",
              "      <td>104.0</td>\n",
              "      <td>165.00</td>\n",
              "      <td>227.5</td>\n",
              "      <td>300.00</td>\n",
              "      <td>1500.0</td>\n",
              "    </tr>\n",
              "    <tr>\n",
              "      <th>Alto da Boa Vista</th>\n",
              "      <td>8.0</td>\n",
              "      <td>418.875000</td>\n",
              "      <td>111.880596</td>\n",
              "      <td>315.0</td>\n",
              "      <td>347.50</td>\n",
              "      <td>378.0</td>\n",
              "      <td>448.75</td>\n",
              "      <td>595.0</td>\n",
              "    </tr>\n",
              "    <tr>\n",
              "      <th>Alto da Lapa</th>\n",
              "      <td>86.0</td>\n",
              "      <td>294.337209</td>\n",
              "      <td>187.674036</td>\n",
              "      <td>46.0</td>\n",
              "      <td>151.25</td>\n",
              "      <td>255.0</td>\n",
              "      <td>363.75</td>\n",
              "      <td>1133.0</td>\n",
              "    </tr>\n",
              "    <tr>\n",
              "      <th>Alto da Mooca</th>\n",
              "      <td>20.0</td>\n",
              "      <td>270.050000</td>\n",
              "      <td>237.306924</td>\n",
              "      <td>84.0</td>\n",
              "      <td>133.75</td>\n",
              "      <td>182.5</td>\n",
              "      <td>221.25</td>\n",
              "      <td>805.0</td>\n",
              "    </tr>\n",
              "    <tr>\n",
              "      <th>Alto de Pinheiros</th>\n",
              "      <td>409.0</td>\n",
              "      <td>433.444988</td>\n",
              "      <td>145.676574</td>\n",
              "      <td>100.0</td>\n",
              "      <td>344.00</td>\n",
              "      <td>412.0</td>\n",
              "      <td>505.00</td>\n",
              "      <td>1530.0</td>\n",
              "    </tr>\n",
              "    <tr>\n",
              "      <th>...</th>\n",
              "      <td>...</td>\n",
              "      <td>...</td>\n",
              "      <td>...</td>\n",
              "      <td>...</td>\n",
              "      <td>...</td>\n",
              "      <td>...</td>\n",
              "      <td>...</td>\n",
              "      <td>...</td>\n",
              "    </tr>\n",
              "    <tr>\n",
              "      <th>Vila Água Funda</th>\n",
              "      <td>5.0</td>\n",
              "      <td>152.200000</td>\n",
              "      <td>44.353128</td>\n",
              "      <td>90.0</td>\n",
              "      <td>138.00</td>\n",
              "      <td>143.0</td>\n",
              "      <td>190.00</td>\n",
              "      <td>200.0</td>\n",
              "    </tr>\n",
              "    <tr>\n",
              "      <th>Água Branca</th>\n",
              "      <td>13.0</td>\n",
              "      <td>191.000000</td>\n",
              "      <td>91.045776</td>\n",
              "      <td>91.0</td>\n",
              "      <td>143.00</td>\n",
              "      <td>174.0</td>\n",
              "      <td>200.00</td>\n",
              "      <td>400.0</td>\n",
              "    </tr>\n",
              "    <tr>\n",
              "      <th>Água Fria</th>\n",
              "      <td>12.0</td>\n",
              "      <td>165.416667</td>\n",
              "      <td>82.934211</td>\n",
              "      <td>60.0</td>\n",
              "      <td>76.25</td>\n",
              "      <td>174.5</td>\n",
              "      <td>210.50</td>\n",
              "      <td>314.0</td>\n",
              "    </tr>\n",
              "    <tr>\n",
              "      <th>Água Funda</th>\n",
              "      <td>2.0</td>\n",
              "      <td>139.000000</td>\n",
              "      <td>19.798990</td>\n",
              "      <td>125.0</td>\n",
              "      <td>132.00</td>\n",
              "      <td>139.0</td>\n",
              "      <td>146.00</td>\n",
              "      <td>153.0</td>\n",
              "    </tr>\n",
              "    <tr>\n",
              "      <th>Água Rasa</th>\n",
              "      <td>8.0</td>\n",
              "      <td>340.250000</td>\n",
              "      <td>294.046036</td>\n",
              "      <td>86.0</td>\n",
              "      <td>172.50</td>\n",
              "      <td>180.0</td>\n",
              "      <td>455.75</td>\n",
              "      <td>805.0</td>\n",
              "    </tr>\n",
              "  </tbody>\n",
              "</table>\n",
              "<p>701 rows × 8 columns</p>\n",
              "</div>\n",
              "      <button class=\"colab-df-convert\" onclick=\"convertToInteractive('df-e077e9ee-8fd1-4447-a90e-f87c8a724069')\"\n",
              "              title=\"Convert this dataframe to an interactive table.\"\n",
              "              style=\"display:none;\">\n",
              "        \n",
              "  <svg xmlns=\"http://www.w3.org/2000/svg\" height=\"24px\"viewBox=\"0 0 24 24\"\n",
              "       width=\"24px\">\n",
              "    <path d=\"M0 0h24v24H0V0z\" fill=\"none\"/>\n",
              "    <path d=\"M18.56 5.44l.94 2.06.94-2.06 2.06-.94-2.06-.94-.94-2.06-.94 2.06-2.06.94zm-11 1L8.5 8.5l.94-2.06 2.06-.94-2.06-.94L8.5 2.5l-.94 2.06-2.06.94zm10 10l.94 2.06.94-2.06 2.06-.94-2.06-.94-.94-2.06-.94 2.06-2.06.94z\"/><path d=\"M17.41 7.96l-1.37-1.37c-.4-.4-.92-.59-1.43-.59-.52 0-1.04.2-1.43.59L10.3 9.45l-7.72 7.72c-.78.78-.78 2.05 0 2.83L4 21.41c.39.39.9.59 1.41.59.51 0 1.02-.2 1.41-.59l7.78-7.78 2.81-2.81c.8-.78.8-2.07 0-2.86zM5.41 20L4 18.59l7.72-7.72 1.47 1.35L5.41 20z\"/>\n",
              "  </svg>\n",
              "      </button>\n",
              "      \n",
              "  <style>\n",
              "    .colab-df-container {\n",
              "      display:flex;\n",
              "      flex-wrap:wrap;\n",
              "      gap: 12px;\n",
              "    }\n",
              "\n",
              "    .colab-df-convert {\n",
              "      background-color: #E8F0FE;\n",
              "      border: none;\n",
              "      border-radius: 50%;\n",
              "      cursor: pointer;\n",
              "      display: none;\n",
              "      fill: #1967D2;\n",
              "      height: 32px;\n",
              "      padding: 0 0 0 0;\n",
              "      width: 32px;\n",
              "    }\n",
              "\n",
              "    .colab-df-convert:hover {\n",
              "      background-color: #E2EBFA;\n",
              "      box-shadow: 0px 1px 2px rgba(60, 64, 67, 0.3), 0px 1px 3px 1px rgba(60, 64, 67, 0.15);\n",
              "      fill: #174EA6;\n",
              "    }\n",
              "\n",
              "    [theme=dark] .colab-df-convert {\n",
              "      background-color: #3B4455;\n",
              "      fill: #D2E3FC;\n",
              "    }\n",
              "\n",
              "    [theme=dark] .colab-df-convert:hover {\n",
              "      background-color: #434B5C;\n",
              "      box-shadow: 0px 1px 3px 1px rgba(0, 0, 0, 0.15);\n",
              "      filter: drop-shadow(0px 1px 2px rgba(0, 0, 0, 0.3));\n",
              "      fill: #FFFFFF;\n",
              "    }\n",
              "  </style>\n",
              "\n",
              "      <script>\n",
              "        const buttonEl =\n",
              "          document.querySelector('#df-e077e9ee-8fd1-4447-a90e-f87c8a724069 button.colab-df-convert');\n",
              "        buttonEl.style.display =\n",
              "          google.colab.kernel.accessAllowed ? 'block' : 'none';\n",
              "\n",
              "        async function convertToInteractive(key) {\n",
              "          const element = document.querySelector('#df-e077e9ee-8fd1-4447-a90e-f87c8a724069');\n",
              "          const dataTable =\n",
              "            await google.colab.kernel.invokeFunction('convertToInteractive',\n",
              "                                                     [key], {});\n",
              "          if (!dataTable) return;\n",
              "\n",
              "          const docLinkHtml = 'Like what you see? Visit the ' +\n",
              "            '<a target=\"_blank\" href=https://colab.research.google.com/notebooks/data_table.ipynb>data table notebook</a>'\n",
              "            + ' to learn more about interactive tables.';\n",
              "          element.innerHTML = '';\n",
              "          dataTable['output_type'] = 'display_data';\n",
              "          await google.colab.output.renderOutput(dataTable, element);\n",
              "          const docLink = document.createElement('div');\n",
              "          docLink.innerHTML = docLinkHtml;\n",
              "          element.appendChild(docLink);\n",
              "        }\n",
              "      </script>\n",
              "    </div>\n",
              "  </div>\n",
              "  "
            ]
          },
          "metadata": {},
          "execution_count": 51
        }
      ]
    },
    {
      "cell_type": "markdown",
      "source": [
        "O método `describe()` nos retorna algus dados estatísticos sobre a distribuição das metragens em cada bairro. O número de valores, a média, o desvio padrão, o valor mínimo, ou seja, a menor metragem de cada bairro; o valor máximo, ou seja, a maior metragem de cada bairro e os quartis 25%, 50% e 75%, que indicam qual o valor de metragem indica que, as metragens menores ou iguais àquele valor representam respectivamente 25%, 50% e 75% da nossa distribuição. Importante lembrar que nosso segundo quartil, 50%, representa também a mediana.\n",
        "\n",
        "Ok, sabendo disso, vamos tentar visualizar graficamente essa distribuição de metragem para alguns bairros, por exemplo, o bairro Alto de Pinheiros, e os já consultados anteriormente, Vila Mariana e Pacaembu: "
      ],
      "metadata": {
        "id": "a8pQONC38MP0"
      }
    },
    {
      "cell_type": "code",
      "source": [
        "# Importando bibliotecas que nos ajudarão com o plot de gráficos\n",
        "import matplotlib.pyplot as plt\n",
        "import seaborn as sns \n",
        "\n",
        "sns.boxplot(data=df.query('Bairro == \"Alto de Pinheiros\"'), x='Metragem')\n",
        "plt.title('Alto de Pinheiros', fontsize=14)\n",
        "plt.show()\n",
        "sns.boxplot(data=df.query('Bairro == \"Vila Mariana\"'), x='Metragem')\n",
        "plt.title('Vila Mariana', fontsize=14)\n",
        "plt.show()\n",
        "sns.boxplot(data=df.query('Bairro == \"Pacaembu\"'), x='Metragem')\n",
        "plt.title('Pacaembu', fontsize=14)\n",
        "plt.show()"
      ],
      "metadata": {
        "colab": {
          "base_uri": "https://localhost:8080/",
          "height": 854
        },
        "id": "e3QOn4hgD-dS",
        "outputId": "1c4fe4a4-0a92-4f6a-b14b-d869f2fe2dd2"
      },
      "execution_count": 103,
      "outputs": [
        {
          "output_type": "display_data",
          "data": {
            "text/plain": [
              "<Figure size 432x288 with 1 Axes>"
            ],
            "image/png": "[encoded data removed]"
          },
          "metadata": {
            "needs_background": "light"
          }
        },
        {
          "output_type": "display_data",
          "data": {
            "text/plain": [
              "<Figure size 432x288 with 1 Axes>"
            ],
            "image/png": "[encoded data removed]"
          },
          "metadata": {
            "needs_background": "light"
          }
        },
        {
          "output_type": "display_data",
          "data": {
            "text/plain": [
              "<Figure size 432x288 with 1 Axes>"
            ],
            "image/png": "[encoded data removed]"
          },
          "metadata": {
            "needs_background": "light"
          }
        }
      ]
    },
    {
      "cell_type": "markdown",
      "source": [
        "Perceba que o maior número de imóveis de Alto de Pinheiros tem uma metragem em torno de 400m², porém, em apenas um imóvel a metragem atinge quase 1600m². Chamamos isso de outlier, que trata-se de um valor muito discrepante do conjunto total, sendo esse valor prejudicial para o cálculo de métricas simples como por exemplo a média. A distribuição da Vila Mariana é mais espaçada, uma vez que a caixa aparece mais larga, isso significa que temos mais variedades de tamanho dos imóveis. Outro ponto interessante é que o bairro Pacaembu tem muitos outliers, ou seja, casos isolados de metragens muito grandes. Lembrem-se que na média das metragens o valor foi de 512m² mas ao vermos o boxplot percebemos que grande parte dos imóveis nem atinge essa metragem. Aqui temos um caso claro de quando os outliers influenciam no cálculo da média.\n",
        "\n",
        "Um outro desafio mencionado por Paulo, é ver se a quantidade de quartos influencia na metragem, e, consequentemente, se a metragem aumenta conforme aumenta o número de quartos. Para isso vamos utilizar um barplot, que nos mostra a distribuição dos valores e seus respectivos outliers:"
      ],
      "metadata": {
        "id": "FMKGcLDgF2Ds"
      }
    },
    {
      "cell_type": "code",
      "source": [
        "plt.figure(figsize=(20,10))\n",
        "sns.barplot(x = df[\"Quartos\"], y = df[\"Metragem\"])\n",
        "plt.show()"
      ],
      "metadata": {
        "colab": {
          "base_uri": "https://localhost:8080/",
          "height": 606
        },
        "id": "HDWOlF8IElVx",
        "outputId": "74334856-d8a5-4e10-9c05-46d51ceb24c2"
      },
      "execution_count": 122,
      "outputs": [
        {
          "output_type": "display_data",
          "data": {
            "text/plain": [
              "<Figure size 1440x720 with 1 Axes>"
            ],
            "image/png": "[encoded data removed]"
          },
          "metadata": {
            "needs_background": "light"
          }
        }
      ]
    },
    {
      "cell_type": "markdown",
      "source": [
        "A situação mais interessante com certeza acontece na metragem de imóveis com 5 quartos. Vemos um valor bem discrepante da metragem de mais de 3000m². Nos demais casos, acontece um crescimento até os imóveis com 7 quartos, mas no geral, mais quartos não significam, necessariamente, mais espaço no imóvel."
      ],
      "metadata": {
        "id": "kSFmg3tqK4lb"
      }
    },
    {
      "cell_type": "markdown",
      "source": [
        "\n",
        "#### 5 - Quais os bairros que tem ruas NaN?\n",
        "\n",
        "Vamos utilizar o método `isna()` para identificar os bairros que tem ruas nulas, agrupá-los por bairros e por fim, listar todos os bairros encontrados:"
      ],
      "metadata": {
        "id": "T7sw0Psi5l0E"
      }
    },
    {
      "cell_type": "code",
      "source": [
        "bairros = df[[\"Bairro\"]][df.Rua.isna()].groupby(\"Bairro\")\n",
        "bairros.groups.keys()"
      ],
      "metadata": {
        "colab": {
          "base_uri": "https://localhost:8080/"
        },
        "id": "Vu0qONJOO-Jz",
        "outputId": "178304da-e1bf-44e2-aef1-df2784fa379c"
      },
      "execution_count": 121,
      "outputs": [
        {
          "output_type": "execute_result",
          "data": {
            "text/plain": [
              "dict_keys(['Aclimação', 'Alto da Boa Vista', 'Alto da Lapa', 'Alto da Mooca', 'Alto de Pinheiros', 'Aricanduva', 'Barra Funda', 'Bela Aliança', 'Belenzinho', 'Boaçava', 'Bosque da Saúde', 'Brasilândia', 'Brooklin', 'Brooklin Novo', 'Brooklin Paulista', 'Brás', 'Burgo Paulista', 'Butantã', 'Cambuci', 'Campininha', 'Campo Belo', 'Capão Redondo', 'Caxingui', 'Cerqueira César', 'Chora Menino', 'Chácara Belenzinho', 'Chácara Califórnia', 'Chácara Flora', 'Chácara Inglesa', 'Chácara Japonesa', 'Chácara Mafalda', 'Chácara Meyer', 'Chácara Monte Alegre', 'Chácara Santo Antônio (Zona Sul)', 'Chácara Tatuapé', 'Cidade Ademar', 'Cidade Antônio Estevão de Carvalho', 'Cidade Centenário', 'Cidade Domitila', 'Cidade Dutra', 'Cidade Jardim', 'Cidade Monções', 'Cidade Mãe do Céu', 'Cidade Patriarca', 'Cidade São Mateus', 'Cidade Vargas', 'City América', 'Conjunto Habitacional Castro Alves', 'Conjunto Residencial Butantã', 'Conjunto Residencial Morada do Sol', 'Conjunto Residencial Vista Verde', 'Consolação', 'Cupecê', 'Engenheiro Goulart', 'Fazenda Morumbi', 'Ferreira', 'Granja Julieta', 'Higienópolis', 'Indianópolis', 'Instituto de Previdência', 'Interlagos', 'Ipiranga', 'Itaberaba', 'Itaim Bibi', 'Itaquera', 'Jabaquara', 'Jaguaré', 'Jaraguá', 'Jardim Aeroporto', 'Jardim Ampliação', 'Jardim Amália', 'Jardim América', 'Jardim Ana Maria', 'Jardim Analia Franco', 'Jardim Anália Franco', 'Jardim Boa Vista (Zona Oeste)', 'Jardim Bonfiglioli', 'Jardim Brasil (Zona Sul)', 'Jardim Brasília (Zona Leste)', 'Jardim Bélgica', 'Jardim Camargo Novo', 'Jardim Campo Grande', 'Jardim Castelo', 'Jardim Celeste', 'Jardim Cidade Pirituba', 'Jardim Cidalia', 'Jardim Cidália', 'Jardim Coimbra', 'Jardim Colombo', 'Jardim Consórcio', 'Jardim Cordeiro', 'Jardim Célia (Zona Sul)', \"Jardim D'Abril\", 'Jardim Danfer', 'Jardim Dom Bosco', 'Jardim Eliana', 'Jardim Ernestina', 'Jardim Ester', 'Jardim Ester Yolanda', 'Jardim Europa', 'Jardim Everest', 'Jardim Floresta', 'Jardim Franca', 'Jardim Gonzaga', 'Jardim Guanca', 'Jardim Guarau', 'Jardim Guedala', 'Jardim Heliomar', 'Jardim Hípico', 'Jardim Independência', 'Jardim Itacolomi', 'Jardim Jabaquara', 'Jardim Japão', 'Jardim Jussara', 'Jardim Leonor', 'Jardim Leonor Mendes de Barros', 'Jardim Londrina', 'Jardim Luzitânia', 'Jardim Marajoara', 'Jardim Maria Duarte', 'Jardim Maria Estela', 'Jardim Marília', 'Jardim Miriam', 'Jardim Monte Alegre', 'Jardim Monte Kemel', 'Jardim Morro Verde', 'Jardim Morumbi', 'Jardim Nice', 'Jardim Novo Mundo', 'Jardim Palmares (Zona Sul)', 'Jardim Panorama', \"Jardim Panorama D'Oeste\", 'Jardim Patente', 'Jardim Patente Novo', 'Jardim Paulista', 'Jardim Paulistano', 'Jardim Peri', 'Jardim Petropolis', 'Jardim Petrópolis', 'Jardim Pirituba', 'Jardim Planalto', 'Jardim Ponte Rasa', 'Jardim Prudência', 'Jardim Rincão', 'Jardim Rizzo', 'Jardim Sabará', 'Jardim Santa Cruz (Campo Grande)', 'Jardim Santa Helena', 'Jardim Santa Maria', 'Jardim Santo Amaro', 'Jardim Santo Elias', 'Jardim Sarah', 'Jardim Satélite', 'Jardim Sul São Paulo', 'Jardim São Carlos (Zona Sul)', 'Jardim Sílvia (Zona Oeste)', 'Jardim Taboão', 'Jardim Teresa', 'Jardim Textil', 'Jardim Tremembe', 'Jardim Triana', 'Jardim Trussardi', 'Jardim Umuarama', 'Jardim Vergueiro (Sacomã)', 'Jardim Viana', 'Jardim Vila Carrão', 'Jardim Vila Formosa', 'Jardim Vila Mariana', 'Jardim Virginia Bianca', 'Jardim Vitória Régia', 'Jardim Vivan', 'Jardim da Glória', 'Jardim da Saúde', 'Jardim das Acácias', 'Jardim das Bandeiras', 'Jardim das Camélias', 'Jardim das Vertentes', 'Jardim do Colégio (Zona Norte)', 'Jardim dos Estados', 'Lapa', 'Lapa de Baixo', 'Lar São Paulo', 'Lauzane Paulista', 'Liberdade', 'Mirandópolis', 'Moema', 'Mooca', 'Morumbi', 'Nova Piraju', 'Pacaembu', 'Paineiras do Morumbi', 'Parada XV de Novembro', 'Paraisópolis', 'Paraíso', 'Paraíso do Morumbi', 'Parque Alves de Lima', 'Parque Boturussu', 'Parque Casa de Pedra', 'Parque Colonial', 'Parque Continental', 'Parque Edu Chaves', 'Parque Guarani', 'Parque Imperial', 'Parque Jabaquara', 'Parque Mandaqui', 'Parque Maria Domitila', 'Parque Monteiro Soares', 'Parque Nações Unidas', 'Parque Novo Mundo', 'Parque Peruche', 'Parque Residencial Oratorio', 'Parque Santa Rita', 'Parque Santo Antônio (Aricanduva)', 'Parque Savoy City', 'Parque São Domingos', 'Parque São Lucas', 'Parque São Rafael', 'Parque da Lapa', 'Parque da Mooca', 'Parque da Vila Prudente', 'Parque dos Príncipes', 'Penha de França', 'Perdizes', 'Pinheiros', 'Planalto Paulista', 'Praia Paulistinha', 'Quinta da Paineira', 'Real Parque', 'Retiro Morumbi', 'Rio Pequeno', 'Sacomã', 'Santa Cecília', 'Santana', 'Santo Amaro', 'Saúde', 'Siciliano', 'Sumarezinho', 'Sumaré', 'Super Quadra Morumbi', 'Sítio do Mandaqui', 'Tatuapé', 'Tremembé', 'Tucuruvi', 'Vila Adalgisa', 'Vila Agueda', 'Vila Albertina', 'Vila Alexandria', 'Vila Alpina', 'Vila América', 'Vila Analia', 'Vila Andrade', 'Vila Anglo Brasileira', 'Vila Anhangüera', 'Vila Antonieta', 'Vila Antonina', 'Vila Antônio', 'Vila Aparecida', 'Vila Araguaia', 'Vila Arriete', 'Vila Ayrosa', 'Vila Bancária Munhoz', 'Vila Barbosa', 'Vila Bela', 'Vila Bela Aliança', 'Vila Bertioga', 'Vila Boaçava', 'Vila Brasilina', 'Vila Brasílio Machado', 'Vila Buenos Aires', 'Vila Califórnia', 'Vila Califórnia(Zona Sul)', 'Vila Campo Grande', 'Vila Canero', 'Vila Caraguatá', 'Vila Carbone', 'Vila Cardoso Franco', 'Vila Carmosina', 'Vila Carrão', 'Vila Clementino', 'Vila Cláudia', 'Vila Comercial', 'Vila Conde do Pinhal', 'Vila Congonhas', 'Vila Constancia', 'Vila Cordeiro', 'Vila Cruzeiro', 'Vila Curuçá', 'Vila Darli', 'Vila Dom Pedro I', 'Vila ESão Pauloerança', 'Vila Elvira', 'Vila Ema', 'Vila Ester (Zona Norte)', 'Vila Firmiano Pinto', 'Vila Formosa', 'Vila Gea', 'Vila Gertrudes', 'Vila Gomes', 'Vila Gomes Cardim', 'Vila Guarani (Z Sul)', 'Vila Guedes', 'Vila Gumercindo', 'Vila Gustavo', 'Vila Ida', 'Vila Império', 'Vila Inah', 'Vila Inglesa', 'Vila Ipojuca', 'Vila Isa', 'Vila Ivg', 'Vila Jacuí', 'Vila Lageado', 'Vila Leopoldina', 'Vila Londrina', 'Vila Lúcia', 'Vila Macedópolis', 'Vila Madalena', 'Vila Mafra', 'Vila Marari', 'Vila Maria Alta', 'Vila Mariana', 'Vila Marieta', 'Vila Mascote', 'Vila Matilde', 'Vila Mazzei', 'Vila Medeiros', 'Vila Mira', 'Vila Moinho Velho', 'Vila Monte Alegre', 'Vila Monumento', 'Vila Moraes', 'Vila Morse', 'Vila Morumbi', 'Vila Nair', 'Vila Nivi', 'Vila Nova Caledonia', 'Vila Nova Caledônia', 'Vila Nova Conceição', 'Vila Nova Curuçá', 'Vila Nova Pauliceia', 'Vila Olímpia', 'Vila Oratório', 'Vila Paiva', 'Vila Palmeiras', 'Vila Paulicéia', 'Vila Paulista', 'Vila Paulo Silas', 'Vila Pedroso', 'Vila Perus', 'Vila Polopoli', 'Vila Pompéia', 'Vila Ponte Rasa', 'Vila Prado', 'Vila Primavera', 'Vila Progredior', 'Vila Prudente', 'Vila Regente Feijó', 'Vila Romana', 'Vila Romano', 'Vila Romero', 'Vila Rui Barbosa', 'Vila Ré', 'Vila Sabrina', 'Vila Salete', 'Vila Santa Catarina', 'Vila Santa Clara', 'Vila Santa Maria', 'Vila Santana', 'Vila Santo Estéfano', 'Vila Santos', 'Vila Sao Paulo', 'Vila Simone', 'Vila Sonia', 'Vila Suzana', 'Vila São Francisco', 'Vila São José (Ipiranga)', 'Vila São Paulo', 'Vila São Silvestre', 'Vila Sílvia', 'Vila Sônia', 'Vila Talarico', 'Vila Tiradentes', 'Vila Tramontano', 'Vila Vasconcelos', 'Vila Vera', 'Vila Virginia', 'Vila da Saúde', 'Vila das Belezas', 'Vila das Mercês', 'Vila do Encontro', 'Água Branca', 'Água Fria', 'Água Funda', 'Água Rasa'])"
            ]
          },
          "metadata": {},
          "execution_count": 121
        }
      ]
    }
  ]
}